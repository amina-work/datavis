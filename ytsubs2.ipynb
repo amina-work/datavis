{
 "cells": [
  {
   "cell_type": "code",
   "execution_count": 3,
   "metadata": {},
   "outputs": [],
   "source": [
    "import pandas as pd\n",
    "import plotly.express as ps\n",
    "import streamlit as st"
   ]
  },
  {
   "cell_type": "code",
   "execution_count": 4,
   "metadata": {},
   "outputs": [
    {
     "name": "stdout",
     "output_type": "stream",
     "text": [
      "<class 'pandas.core.frame.DataFrame'>\n",
      "RangeIndex: 51 entries, 0 to 50\n",
      "Data columns (total 9 columns):\n",
      " #   Column                  Non-Null Count  Dtype \n",
      "---  ------                  --------------  ----- \n",
      " 0   Unnamed: 0              51 non-null     int64 \n",
      " 1   Rank                    51 non-null     object\n",
      " 2   Name                    51 non-null     object\n",
      " 3   Link                    51 non-null     object\n",
      " 4   Brand channel           51 non-null     object\n",
      " 5   Subscribers (millions)  51 non-null     object\n",
      " 6   Primary language        51 non-null     object\n",
      " 7   Category                51 non-null     object\n",
      " 8   Country                 51 non-null     object\n",
      "dtypes: int64(1), object(8)\n",
      "memory usage: 3.7+ KB\n"
     ]
    }
   ],
   "source": [
    "df = pd.read_csv(\"ytsubs.csv\")\n",
    "df.info()"
   ]
  }
 ],
 "metadata": {
  "kernelspec": {
   "display_name": "Python 3",
   "language": "python",
   "name": "python3"
  },
  "language_info": {
   "codemirror_mode": {
    "name": "ipython",
    "version": 3
   },
   "file_extension": ".py",
   "mimetype": "text/x-python",
   "name": "python",
   "nbconvert_exporter": "python",
   "pygments_lexer": "ipython3",
   "version": "3.11.4"
  },
  "orig_nbformat": 4
 },
 "nbformat": 4,
 "nbformat_minor": 2
}
